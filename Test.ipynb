{
 "cells": [
  {
   "cell_type": "code",
   "execution_count": 1,
   "metadata": {},
   "outputs": [],
   "source": [
    "import pycrfsuite\n",
    "from config import model_name\n",
    "from utils import loadData, dataset2feature, dataset2label, sent2feature"
   ]
  },
  {
   "cell_type": "markdown",
   "metadata": {},
   "source": [
    "#### 加载测试数据集"
   ]
  },
  {
   "cell_type": "code",
   "execution_count": 2,
   "metadata": {},
   "outputs": [
    {
     "name": "stdout",
     "output_type": "stream",
     "text": [
      "loading data...\n",
      "completed!\n",
      "getting features...\n",
      "completed!\n"
     ]
    }
   ],
   "source": [
    "test_data = loadData(\"data/example.test\")\n",
    "X_test = dataset2feature(test_data)\n",
    "y_test = dataset2label(test_data)"
   ]
  },
  {
   "cell_type": "markdown",
   "metadata": {},
   "source": [
    "#### 加载训练好的模型"
   ]
  },
  {
   "cell_type": "code",
   "execution_count": 3,
   "metadata": {},
   "outputs": [
    {
     "data": {
      "text/plain": [
       "<contextlib.closing at 0x112936518>"
      ]
     },
     "execution_count": 3,
     "metadata": {},
     "output_type": "execute_result"
    }
   ],
   "source": [
    "tagger = pycrfsuite.Tagger()\n",
    "tagger.open(model_name)"
   ]
  },
  {
   "cell_type": "markdown",
   "metadata": {},
   "source": [
    "#### 预测"
   ]
  },
  {
   "cell_type": "code",
   "execution_count": 4,
   "metadata": {},
   "outputs": [],
   "source": [
    "y_pred = tagger.tag(X_test)"
   ]
  },
  {
   "cell_type": "markdown",
   "metadata": {},
   "source": [
    "#### 效果"
   ]
  },
  {
   "cell_type": "code",
   "execution_count": 5,
   "metadata": {},
   "outputs": [],
   "source": [
    "from sklearn.metrics import classification_report\n",
    "from sklearn.preprocessing import LabelEncoder\n",
    "\n",
    "le = LabelEncoder()\n",
    "y_true_combined = le.fit_transform(y_test)\n",
    "y_pred_combined = le.transform(y_pred)"
   ]
  },
  {
   "cell_type": "code",
   "execution_count": 6,
   "metadata": {},
   "outputs": [
    {
     "name": "stdout",
     "output_type": "stream",
     "text": [
      "             precision    recall  f1-score   support\n",
      "\n",
      "      B-LOC       0.92      0.87      0.90      3658\n",
      "      B-ORG       0.86      0.78      0.82      2185\n",
      "      B-PER       0.96      0.86      0.90      1864\n",
      "      I-LOC       0.89      0.87      0.88      4948\n",
      "      I-ORG       0.89      0.84      0.86      8756\n",
      "      I-PER       0.94      0.89      0.92      3601\n",
      "          O       0.99      0.99      0.99    194185\n",
      "\n",
      "avg / total       0.98      0.98      0.98    219197\n",
      "\n"
     ]
    }
   ],
   "source": [
    "report  = classification_report(y_true_combined, y_pred_combined, labels=range(len(le.classes_)), target_names=list(le.classes_))\n",
    "print(report)"
   ]
  },
  {
   "cell_type": "markdown",
   "metadata": {},
   "source": [
    "#### 预测"
   ]
  },
  {
   "cell_type": "code",
   "execution_count": 7,
   "metadata": {},
   "outputs": [
    {
     "data": {
      "text/plain": [
       "[('英', 'B-LOC'),\n",
       " ('国', 'I-LOC'),\n",
       " ('首', 'O'),\n",
       " ('相', 'O'),\n",
       " ('鲍', 'B-PER'),\n",
       " ('里', 'I-PER'),\n",
       " ('斯', 'I-PER'),\n",
       " ('·', 'I-PER'),\n",
       " ('约', 'I-PER'),\n",
       " ('翰', 'I-PER'),\n",
       " ('逊', 'I-PER'),\n",
       " ('表', 'O'),\n",
       " ('示', 'O'),\n",
       " ('，', 'O'),\n",
       " ('他', 'O'),\n",
       " ('在', 'O'),\n",
       " ('昨', 'O'),\n",
       " ('天', 'O'),\n",
       " ('晚', 'O'),\n",
       " ('上', 'O'),\n",
       " ('与', 'O'),\n",
       " ('美', 'B-ORG'),\n",
       " ('国', 'I-ORG'),\n",
       " ('白', 'I-ORG'),\n",
       " ('宫', 'I-ORG'),\n",
       " ('通', 'O'),\n",
       " ('电', 'O'),\n",
       " ('话', 'O'),\n",
       " ('，', 'O'),\n",
       " ('双', 'O'),\n",
       " ('方', 'O'),\n",
       " ('交', 'O'),\n",
       " ('流', 'O'),\n",
       " ('了', 'O'),\n",
       " ('抗', 'O'),\n",
       " ('击', 'O'),\n",
       " ('疫', 'O'),\n",
       " ('情', 'O'),\n",
       " ('的', 'O'),\n",
       " ('经', 'O'),\n",
       " ('验', 'O')]"
      ]
     },
     "execution_count": 7,
     "metadata": {},
     "output_type": "execute_result"
    }
   ],
   "source": [
    "sentence = \"英国首相鲍里斯·约翰逊表示，他在昨天晚上与美国白宫通电话，双方交流了抗击疫情的经验\"\n",
    "sent = list(map(lambda w: (w, \"x\"), sentence))\n",
    "features = sent2feature(sent)\n",
    "result = tagger.tag(features)\n",
    "list(zip(sentence, result))"
   ]
  },
  {
   "cell_type": "code",
   "execution_count": 8,
   "metadata": {},
   "outputs": [
    {
     "data": {
      "text/plain": [
       "[('李', 'B-PER'),\n",
       " ('克', 'I-PER'),\n",
       " ('强', 'I-PER'),\n",
       " ('来', 'O'),\n",
       " ('到', 'O'),\n",
       " ('位', 'O'),\n",
       " ('于', 'O'),\n",
       " ('江', 'B-LOC'),\n",
       " ('西', 'I-LOC'),\n",
       " ('省', 'I-LOC'),\n",
       " ('赣', 'B-LOC'),\n",
       " ('州', 'I-LOC'),\n",
       " ('市', 'I-LOC'),\n",
       " ('于', 'B-LOC'),\n",
       " ('都', 'I-LOC'),\n",
       " ('县', 'I-LOC'),\n",
       " ('的', 'O'),\n",
       " ('梓', 'B-LOC'),\n",
       " ('山', 'I-LOC'),\n",
       " ('镇', 'I-LOC'),\n",
       " ('潭', 'B-LOC'),\n",
       " ('头', 'I-LOC'),\n",
       " ('村', 'I-LOC'),\n",
       " ('看', 'O'),\n",
       " ('望', 'O'),\n",
       " ('慰', 'O'),\n",
       " ('问', 'O'),\n",
       " ('群', 'O'),\n",
       " ('众', 'O')]"
      ]
     },
     "execution_count": 8,
     "metadata": {},
     "output_type": "execute_result"
    }
   ],
   "source": [
    "sentence = \"李克强来到位于江西省赣州市于都县的梓山镇潭头村看望慰问群众\"\n",
    "sent = list(map(lambda w: (w, \"x\"), sentence))\n",
    "features = sent2feature(sent)\n",
    "result = tagger.tag(features)\n",
    "list(zip(sentence, result))"
   ]
  },
  {
   "cell_type": "code",
   "execution_count": null,
   "metadata": {
    "collapsed": true
   },
   "outputs": [],
   "source": []
  }
 ],
 "metadata": {
  "kernelspec": {
   "display_name": "Python 3",
   "language": "python",
   "name": "python3"
  },
  "language_info": {
   "codemirror_mode": {
    "name": "ipython",
    "version": 3
   },
   "file_extension": ".py",
   "mimetype": "text/x-python",
   "name": "python",
   "nbconvert_exporter": "python",
   "pygments_lexer": "ipython3",
   "version": "3.6.8"
  }
 },
 "nbformat": 4,
 "nbformat_minor": 2
}
